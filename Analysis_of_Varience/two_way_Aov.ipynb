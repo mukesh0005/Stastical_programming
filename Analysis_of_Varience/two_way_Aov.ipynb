{
 "cells": [
  {
   "attachments": {},
   "cell_type": "markdown",
   "metadata": {},
   "source": [
    "# Analysis of Varience"
   ]
  },
  {
   "attachments": {},
   "cell_type": "markdown",
   "metadata": {},
   "source": [
    "Import modules"
   ]
  },
  {
   "cell_type": "code",
   "execution_count": 1,
   "metadata": {},
   "outputs": [],
   "source": [
    "import pandas as pd\n",
    "from sklearn.linear_model import LogisticRegression\n",
    "from matplotlib import pyplot as plt\n",
    "import numpy as np\n",
    "import seaborn as sns\n",
    "np.random.seed(1)"
   ]
  },
  {
   "attachments": {},
   "cell_type": "markdown",
   "metadata": {},
   "source": [
    "Load data "
   ]
  },
  {
   "cell_type": "code",
   "execution_count": 3,
   "metadata": {},
   "outputs": [
    {
     "data": {
      "text/html": [
       "<div>\n",
       "<style scoped>\n",
       "    .dataframe tbody tr th:only-of-type {\n",
       "        vertical-align: middle;\n",
       "    }\n",
       "\n",
       "    .dataframe tbody tr th {\n",
       "        vertical-align: top;\n",
       "    }\n",
       "\n",
       "    .dataframe thead th {\n",
       "        text-align: right;\n",
       "    }\n",
       "</style>\n",
       "<table border=\"1\" class=\"dataframe\">\n",
       "  <thead>\n",
       "    <tr style=\"text-align: right;\">\n",
       "      <th></th>\n",
       "      <th>Cat</th>\n",
       "      <th>Flavor</th>\n",
       "      <th>Eaten</th>\n",
       "    </tr>\n",
       "  </thead>\n",
       "  <tbody>\n",
       "    <tr>\n",
       "      <th>0</th>\n",
       "      <td>Fluffy</td>\n",
       "      <td>Kidney</td>\n",
       "      <td>2.37</td>\n",
       "    </tr>\n",
       "    <tr>\n",
       "      <th>1</th>\n",
       "      <td>Puffy</td>\n",
       "      <td>Kidney</td>\n",
       "      <td>2.62</td>\n",
       "    </tr>\n",
       "    <tr>\n",
       "      <th>2</th>\n",
       "      <td>Scampers</td>\n",
       "      <td>Kidney</td>\n",
       "      <td>2.31</td>\n",
       "    </tr>\n",
       "  </tbody>\n",
       "</table>\n",
       "</div>"
      ],
      "text/plain": [
       "        Cat  Flavor  Eaten\n",
       "0    Fluffy  Kidney   2.37\n",
       "1     Puffy  Kidney   2.62\n",
       "2  Scampers  Kidney   2.31"
      ]
     },
     "execution_count": 3,
     "metadata": {},
     "output_type": "execute_result"
    }
   ],
   "source": [
    "df = pd.read_excel('Aov.xlsx',sheet_name= 2)\n",
    "df.head(3)"
   ]
  },
  {
   "cell_type": "code",
   "execution_count": 4,
   "metadata": {},
   "outputs": [
    {
     "data": {
      "text/plain": [
       "Cat       0\n",
       "Flavor    0\n",
       "Eaten     0\n",
       "dtype: int64"
      ]
     },
     "execution_count": 4,
     "metadata": {},
     "output_type": "execute_result"
    }
   ],
   "source": [
    "df.isna().sum()"
   ]
  },
  {
   "cell_type": "code",
   "execution_count": 5,
   "metadata": {},
   "outputs": [
    {
     "data": {
      "text/html": [
       "<div>\n",
       "<style scoped>\n",
       "    .dataframe tbody tr th:only-of-type {\n",
       "        vertical-align: middle;\n",
       "    }\n",
       "\n",
       "    .dataframe tbody tr th {\n",
       "        vertical-align: top;\n",
       "    }\n",
       "\n",
       "    .dataframe thead th {\n",
       "        text-align: right;\n",
       "    }\n",
       "</style>\n",
       "<table border=\"1\" class=\"dataframe\">\n",
       "  <thead>\n",
       "    <tr style=\"text-align: right;\">\n",
       "      <th></th>\n",
       "      <th>Eaten</th>\n",
       "    </tr>\n",
       "  </thead>\n",
       "  <tbody>\n",
       "    <tr>\n",
       "      <th>count</th>\n",
       "      <td>60.000000</td>\n",
       "    </tr>\n",
       "    <tr>\n",
       "      <th>mean</th>\n",
       "      <td>2.195333</td>\n",
       "    </tr>\n",
       "    <tr>\n",
       "      <th>std</th>\n",
       "      <td>0.448559</td>\n",
       "    </tr>\n",
       "    <tr>\n",
       "      <th>min</th>\n",
       "      <td>1.080000</td>\n",
       "    </tr>\n",
       "    <tr>\n",
       "      <th>25%</th>\n",
       "      <td>1.937500</td>\n",
       "    </tr>\n",
       "    <tr>\n",
       "      <th>50%</th>\n",
       "      <td>2.260000</td>\n",
       "    </tr>\n",
       "    <tr>\n",
       "      <th>75%</th>\n",
       "      <td>2.455000</td>\n",
       "    </tr>\n",
       "    <tr>\n",
       "      <th>max</th>\n",
       "      <td>3.000000</td>\n",
       "    </tr>\n",
       "  </tbody>\n",
       "</table>\n",
       "</div>"
      ],
      "text/plain": [
       "           Eaten\n",
       "count  60.000000\n",
       "mean    2.195333\n",
       "std     0.448559\n",
       "min     1.080000\n",
       "25%     1.937500\n",
       "50%     2.260000\n",
       "75%     2.455000\n",
       "max     3.000000"
      ]
     },
     "execution_count": 5,
     "metadata": {},
     "output_type": "execute_result"
    }
   ],
   "source": [
    "df.describe()"
   ]
  },
  {
   "attachments": {},
   "cell_type": "markdown",
   "metadata": {},
   "source": [
    "## Exploratory Data Analysis\n"
   ]
  },
  {
   "cell_type": "code",
   "execution_count": 6,
   "metadata": {},
   "outputs": [
    {
     "data": {
      "text/plain": [
       "<seaborn.axisgrid.PairGrid at 0x23d22049fd0>"
      ]
     },
     "execution_count": 6,
     "metadata": {},
     "output_type": "execute_result"
    },
    {
     "data": {
      "image/png": "[encoded data removed]",
      "text/plain": [
       "<Figure size 250x250 with 2 Axes>"
      ]
     },
     "metadata": {},
     "output_type": "display_data"
    }
   ],
   "source": [
    "sns.pairplot(df)"
   ]
  },
  {
   "attachments": {},
   "cell_type": "markdown",
   "metadata": {},
   "source": [
    "## Encoding"
   ]
  },
  {
   "cell_type": "code",
   "execution_count": 7,
   "metadata": {},
   "outputs": [
    {
     "data": {
      "text/html": [
       "<div>\n",
       "<style scoped>\n",
       "    .dataframe tbody tr th:only-of-type {\n",
       "        vertical-align: middle;\n",
       "    }\n",
       "\n",
       "    .dataframe tbody tr th {\n",
       "        vertical-align: top;\n",
       "    }\n",
       "\n",
       "    .dataframe thead th {\n",
       "        text-align: right;\n",
       "    }\n",
       "</style>\n",
       "<table border=\"1\" class=\"dataframe\">\n",
       "  <thead>\n",
       "    <tr style=\"text-align: right;\">\n",
       "      <th></th>\n",
       "      <th>Cat</th>\n",
       "      <th>Flavor</th>\n",
       "      <th>Eaten</th>\n",
       "    </tr>\n",
       "  </thead>\n",
       "  <tbody>\n",
       "    <tr>\n",
       "      <th>0</th>\n",
       "      <td>Fluffy</td>\n",
       "      <td>Kidney</td>\n",
       "      <td>2.37</td>\n",
       "    </tr>\n",
       "    <tr>\n",
       "      <th>1</th>\n",
       "      <td>Puffy</td>\n",
       "      <td>Kidney</td>\n",
       "      <td>2.62</td>\n",
       "    </tr>\n",
       "    <tr>\n",
       "      <th>2</th>\n",
       "      <td>Scampers</td>\n",
       "      <td>Kidney</td>\n",
       "      <td>2.31</td>\n",
       "    </tr>\n",
       "  </tbody>\n",
       "</table>\n",
       "</div>"
      ],
      "text/plain": [
       "        Cat  Flavor  Eaten\n",
       "0    Fluffy  Kidney   2.37\n",
       "1     Puffy  Kidney   2.62\n",
       "2  Scampers  Kidney   2.31"
      ]
     },
     "execution_count": 7,
     "metadata": {},
     "output_type": "execute_result"
    }
   ],
   "source": [
    "df.head(3)"
   ]
  },
  {
   "cell_type": "code",
   "execution_count": 8,
   "metadata": {},
   "outputs": [],
   "source": [
    "df = df.join(pd.get_dummies(df['Flavor'],prefix= 'Flavor'))\n",
    "df = df.join(pd.get_dummies(df['Cat'],prefix= 'Cat'))"
   ]
  },
  {
   "cell_type": "code",
   "execution_count": 9,
   "metadata": {},
   "outputs": [
    {
     "data": {
      "text/html": [
       "<div>\n",
       "<style scoped>\n",
       "    .dataframe tbody tr th:only-of-type {\n",
       "        vertical-align: middle;\n",
       "    }\n",
       "\n",
       "    .dataframe tbody tr th {\n",
       "        vertical-align: top;\n",
       "    }\n",
       "\n",
       "    .dataframe thead th {\n",
       "        text-align: right;\n",
       "    }\n",
       "</style>\n",
       "<table border=\"1\" class=\"dataframe\">\n",
       "  <thead>\n",
       "    <tr style=\"text-align: right;\">\n",
       "      <th></th>\n",
       "      <th>Cat</th>\n",
       "      <th>Flavor</th>\n",
       "      <th>Eaten</th>\n",
       "      <th>Flavor_Beef</th>\n",
       "      <th>Flavor_Chicken</th>\n",
       "      <th>Flavor_Kidney</th>\n",
       "      <th>Flavor_Salmon</th>\n",
       "      <th>Flavor_Shrimp</th>\n",
       "      <th>Cat_Apollonia</th>\n",
       "      <th>Cat_Bacon</th>\n",
       "      <th>Cat_Ethel</th>\n",
       "      <th>Cat_Fluffy</th>\n",
       "      <th>Cat_Itty-Bitty</th>\n",
       "      <th>Cat_Lucy</th>\n",
       "      <th>Cat_Mr. Smooches</th>\n",
       "      <th>Cat_Pandora</th>\n",
       "      <th>Cat_Pork Chop</th>\n",
       "      <th>Cat_Puffy</th>\n",
       "      <th>Cat_Sangria</th>\n",
       "      <th>Cat_Scampers</th>\n",
       "    </tr>\n",
       "  </thead>\n",
       "  <tbody>\n",
       "    <tr>\n",
       "      <th>0</th>\n",
       "      <td>Fluffy</td>\n",
       "      <td>Kidney</td>\n",
       "      <td>2.37</td>\n",
       "      <td>0</td>\n",
       "      <td>0</td>\n",
       "      <td>1</td>\n",
       "      <td>0</td>\n",
       "      <td>0</td>\n",
       "      <td>0</td>\n",
       "      <td>0</td>\n",
       "      <td>0</td>\n",
       "      <td>1</td>\n",
       "      <td>0</td>\n",
       "      <td>0</td>\n",
       "      <td>0</td>\n",
       "      <td>0</td>\n",
       "      <td>0</td>\n",
       "      <td>0</td>\n",
       "      <td>0</td>\n",
       "      <td>0</td>\n",
       "    </tr>\n",
       "    <tr>\n",
       "      <th>1</th>\n",
       "      <td>Puffy</td>\n",
       "      <td>Kidney</td>\n",
       "      <td>2.62</td>\n",
       "      <td>0</td>\n",
       "      <td>0</td>\n",
       "      <td>1</td>\n",
       "      <td>0</td>\n",
       "      <td>0</td>\n",
       "      <td>0</td>\n",
       "      <td>0</td>\n",
       "      <td>0</td>\n",
       "      <td>0</td>\n",
       "      <td>0</td>\n",
       "      <td>0</td>\n",
       "      <td>0</td>\n",
       "      <td>0</td>\n",
       "      <td>0</td>\n",
       "      <td>1</td>\n",
       "      <td>0</td>\n",
       "      <td>0</td>\n",
       "    </tr>\n",
       "    <tr>\n",
       "      <th>2</th>\n",
       "      <td>Scampers</td>\n",
       "      <td>Kidney</td>\n",
       "      <td>2.31</td>\n",
       "      <td>0</td>\n",
       "      <td>0</td>\n",
       "      <td>1</td>\n",
       "      <td>0</td>\n",
       "      <td>0</td>\n",
       "      <td>0</td>\n",
       "      <td>0</td>\n",
       "      <td>0</td>\n",
       "      <td>0</td>\n",
       "      <td>0</td>\n",
       "      <td>0</td>\n",
       "      <td>0</td>\n",
       "      <td>0</td>\n",
       "      <td>0</td>\n",
       "      <td>0</td>\n",
       "      <td>0</td>\n",
       "      <td>1</td>\n",
       "    </tr>\n",
       "  </tbody>\n",
       "</table>\n",
       "</div>"
      ],
      "text/plain": [
       "        Cat  Flavor  Eaten  Flavor_Beef  Flavor_Chicken  Flavor_Kidney  \\\n",
       "0    Fluffy  Kidney   2.37            0               0              1   \n",
       "1     Puffy  Kidney   2.62            0               0              1   \n",
       "2  Scampers  Kidney   2.31            0               0              1   \n",
       "\n",
       "   Flavor_Salmon  Flavor_Shrimp  Cat_Apollonia  Cat_Bacon  Cat_Ethel  \\\n",
       "0              0              0              0          0          0   \n",
       "1              0              0              0          0          0   \n",
       "2              0              0              0          0          0   \n",
       "\n",
       "   Cat_Fluffy  Cat_Itty-Bitty  Cat_Lucy  Cat_Mr. Smooches  Cat_Pandora  \\\n",
       "0           1               0         0                 0            0   \n",
       "1           0               0         0                 0            0   \n",
       "2           0               0         0                 0            0   \n",
       "\n",
       "   Cat_Pork Chop  Cat_Puffy  Cat_Sangria  Cat_Scampers  \n",
       "0              0          0            0             0  \n",
       "1              0          1            0             0  \n",
       "2              0          0            0             1  "
      ]
     },
     "execution_count": 9,
     "metadata": {},
     "output_type": "execute_result"
    }
   ],
   "source": [
    "df.head(3)"
   ]
  },
  {
   "attachments": {},
   "cell_type": "markdown",
   "metadata": {},
   "source": [
    "### Variables X and Y\n"
   ]
  },
  {
   "cell_type": "code",
   "execution_count": 10,
   "metadata": {},
   "outputs": [],
   "source": [
    "X = df.drop(['Eaten','Flavor','Cat'],axis=1)\n",
    "Y = df['Eaten']"
   ]
  },
  {
   "cell_type": "code",
   "execution_count": 11,
   "metadata": {},
   "outputs": [
    {
     "data": {
      "text/html": [
       "<div>\n",
       "<style scoped>\n",
       "    .dataframe tbody tr th:only-of-type {\n",
       "        vertical-align: middle;\n",
       "    }\n",
       "\n",
       "    .dataframe tbody tr th {\n",
       "        vertical-align: top;\n",
       "    }\n",
       "\n",
       "    .dataframe thead th {\n",
       "        text-align: right;\n",
       "    }\n",
       "</style>\n",
       "<table border=\"1\" class=\"dataframe\">\n",
       "  <thead>\n",
       "    <tr style=\"text-align: right;\">\n",
       "      <th></th>\n",
       "      <th>Cat</th>\n",
       "      <th>Eaten</th>\n",
       "    </tr>\n",
       "  </thead>\n",
       "  <tbody>\n",
       "    <tr>\n",
       "      <th>0</th>\n",
       "      <td>Apollonia</td>\n",
       "      <td>0.02685</td>\n",
       "    </tr>\n",
       "    <tr>\n",
       "      <th>1</th>\n",
       "      <td>Bacon</td>\n",
       "      <td>0.10485</td>\n",
       "    </tr>\n",
       "    <tr>\n",
       "      <th>2</th>\n",
       "      <td>Ethel</td>\n",
       "      <td>0.17127</td>\n",
       "    </tr>\n",
       "    <tr>\n",
       "      <th>3</th>\n",
       "      <td>Fluffy</td>\n",
       "      <td>0.05320</td>\n",
       "    </tr>\n",
       "    <tr>\n",
       "      <th>4</th>\n",
       "      <td>Itty-Bitty</td>\n",
       "      <td>0.04157</td>\n",
       "    </tr>\n",
       "    <tr>\n",
       "      <th>5</th>\n",
       "      <td>Lucy</td>\n",
       "      <td>0.16502</td>\n",
       "    </tr>\n",
       "    <tr>\n",
       "      <th>6</th>\n",
       "      <td>Mr. Smooches</td>\n",
       "      <td>0.01087</td>\n",
       "    </tr>\n",
       "    <tr>\n",
       "      <th>7</th>\n",
       "      <td>Pandora</td>\n",
       "      <td>0.10145</td>\n",
       "    </tr>\n",
       "    <tr>\n",
       "      <th>8</th>\n",
       "      <td>Pork Chop</td>\n",
       "      <td>0.24348</td>\n",
       "    </tr>\n",
       "    <tr>\n",
       "      <th>9</th>\n",
       "      <td>Puffy</td>\n",
       "      <td>0.10842</td>\n",
       "    </tr>\n",
       "    <tr>\n",
       "      <th>10</th>\n",
       "      <td>Sangria</td>\n",
       "      <td>0.22847</td>\n",
       "    </tr>\n",
       "    <tr>\n",
       "      <th>11</th>\n",
       "      <td>Scampers</td>\n",
       "      <td>0.09130</td>\n",
       "    </tr>\n",
       "  </tbody>\n",
       "</table>\n",
       "</div>"
      ],
      "text/plain": [
       "             Cat    Eaten\n",
       "0      Apollonia  0.02685\n",
       "1          Bacon  0.10485\n",
       "2          Ethel  0.17127\n",
       "3         Fluffy  0.05320\n",
       "4     Itty-Bitty  0.04157\n",
       "5           Lucy  0.16502\n",
       "6   Mr. Smooches  0.01087\n",
       "7        Pandora  0.10145\n",
       "8      Pork Chop  0.24348\n",
       "9          Puffy  0.10842\n",
       "10       Sangria  0.22847\n",
       "11      Scampers  0.09130"
      ]
     },
     "execution_count": 11,
     "metadata": {},
     "output_type": "execute_result"
    }
   ],
   "source": [
    "FEG = df.groupby('Cat')['Eaten'].var().reset_index()\n",
    "FEG"
   ]
  },
  {
   "attachments": {},
   "cell_type": "markdown",
   "metadata": {},
   "source": [
    "### Subsetting"
   ]
  },
  {
   "cell_type": "code",
   "execution_count": 16,
   "metadata": {},
   "outputs": [],
   "source": [
    "df_sm = df[df['Cat']=='Mr. Smooches']\n",
    "df_ib = df[df['Cat']=='Itty-Bitty']\n",
    "df_pc = df[df['Cat']=='Pork Chop']"
   ]
  },
  {
   "cell_type": "code",
   "execution_count": 21,
   "metadata": {},
   "outputs": [
    {
     "data": {
      "image/png": "[encoded data removed]",
      "text/plain": [
       "<Figure size 640x480 with 1 Axes>"
      ]
     },
     "metadata": {},
     "output_type": "display_data"
    }
   ],
   "source": [
    "plt.hist(df_pc['Eaten'], color='green', alpha=0.5, label='Pork Chop', bins=10)\n",
    "plt.hist(df_ib['Eaten'], color='red', alpha=0.5, label='Itty Bitty', bins=10)\n",
    "plt.hist(df_sm['Eaten'], color='yellow', alpha=0.5, label='mr.smooches', bins=10)\n",
    "plt.xlim(0, 3)\n",
    "plt.title('Comparing Cats')\n",
    "plt.xlabel('Eaten')\n",
    "plt.ylabel('Frequency')\n",
    "plt.legend()\n",
    "\n",
    "plt.show()"
   ]
  },
  {
   "attachments": {},
   "cell_type": "markdown",
   "metadata": {},
   "source": [
    "## levene test"
   ]
  },
  {
   "attachments": {},
   "cell_type": "markdown",
   "metadata": {},
   "source": [
    "To determine whether two or more features have equal variances"
   ]
  },
  {
   "cell_type": "code",
   "execution_count": 20,
   "metadata": {},
   "outputs": [
    {
     "name": "stdout",
     "output_type": "stream",
     "text": [
      "X[Flavor_Beef]: LeveneResult(statistic=4.380170508367544, pvalue=0.03850209556743033)\n",
      "X[Flavor_Chicken]: LeveneResult(statistic=4.380170508367545, pvalue=0.03850209556743033)\n",
      "X[Flavor_Kidney]: LeveneResult(statistic=4.380170508367545, pvalue=0.03850209556743033)\n",
      "X[Flavor_Salmon]: LeveneResult(statistic=4.380170508367545, pvalue=0.03850209556743033)\n",
      "X[Flavor_Shrimp]: LeveneResult(statistic=4.380170508367545, pvalue=0.03850209556743033)\n",
      "X[Cat_Apollonia]: LeveneResult(statistic=22.75522374434129, pvalue=5.312543362552446e-06)\n",
      "X[Cat_Bacon]: LeveneResult(statistic=22.75522374434129, pvalue=5.312543362552446e-06)\n",
      "X[Cat_Ethel]: LeveneResult(statistic=22.75522374434129, pvalue=5.312543362552446e-06)\n",
      "X[Cat_Fluffy]: LeveneResult(statistic=22.75522374434129, pvalue=5.312543362552446e-06)\n",
      "X[Cat_Itty-Bitty]: LeveneResult(statistic=22.75522374434129, pvalue=5.312543362552446e-06)\n",
      "X[Cat_Lucy]: LeveneResult(statistic=22.75522374434129, pvalue=5.312543362552446e-06)\n",
      "X[Cat_Mr. Smooches]: LeveneResult(statistic=22.75522374434129, pvalue=5.312543362552446e-06)\n",
      "X[Cat_Pandora]: LeveneResult(statistic=22.75522374434129, pvalue=5.312543362552446e-06)\n",
      "X[Cat_Pork Chop]: LeveneResult(statistic=22.75522374434129, pvalue=5.312543362552446e-06)\n",
      "X[Cat_Puffy]: LeveneResult(statistic=22.75522374434129, pvalue=5.312543362552446e-06)\n",
      "X[Cat_Sangria]: LeveneResult(statistic=22.75522374434129, pvalue=5.312543362552446e-06)\n",
      "X[Cat_Scampers]: LeveneResult(statistic=22.75522374434129, pvalue=5.312543362552446e-06)\n"
     ]
    }
   ],
   "source": [
    "import scipy.stats as stats\n",
    "\n",
    "levene_results = []\n",
    "for i in X.columns:\n",
    "    result = stats.levene(X[:][i], Y, center='median')\n",
    "    print(\"X[{}]: {}\".format(i, result))\n",
    "    levene_results.append(result)"
   ]
  },
  {
   "attachments": {},
   "cell_type": "markdown",
   "metadata": {},
   "source": [
    "Since the p-value is relatively high (greater than the typical significance level of 0.05) for Flavours and very less for cats , this suggests that the eating preference is majorly based on flavours but not the cat.We can also infer that there is not enough evidence to conclude that the variances of the groups (flavors and cats)are significantly different."
   ]
  },
  {
   "attachments": {},
   "cell_type": "markdown",
   "metadata": {},
   "source": [
    "## Analysis Of varience test"
   ]
  },
  {
   "attachments": {},
   "cell_type": "markdown",
   "metadata": {},
   "source": [
    "A one-way ANOVA has the below given null and alternative hypotheses:\n",
    "\n",
    "H0 (null hypothesis): (It implies that the means of all the population are equal)\n",
    "\n",
    "\n",
    "    H1 (null hypothesis): It states that there will be at least one population mean that differs from the rest"
   ]
  },
  {
   "cell_type": "code",
   "execution_count": 22,
   "metadata": {},
   "outputs": [],
   "source": [
    "import statsmodels.api as sm\n",
    "from statsmodels.formula.api import ols"
   ]
  },
  {
   "cell_type": "code",
   "execution_count": 29,
   "metadata": {},
   "outputs": [
    {
     "name": "stdout",
     "output_type": "stream",
     "text": [
      "                            OLS Regression Results                            \n",
      "==============================================================================\n",
      "Dep. Variable:                  Eaten   R-squared:                       1.000\n",
      "Model:                            OLS   Adj. R-squared:                    nan\n",
      "Method:                 Least Squares   F-statistic:                       nan\n",
      "Date:                Mon, 22 May 2023   Prob (F-statistic):                nan\n",
      "Time:                        01:03:20   Log-Likelihood:                 1930.0\n",
      "No. Observations:                  60   AIC:                            -3740.\n",
      "Df Residuals:                       0   BIC:                            -3614.\n",
      "Df Model:                          59                                         \n",
      "Covariance Type:            nonrobust                                         \n",
      "=========================================================================================================\n",
      "                                            coef    std err          t      P>|t|      [0.025      0.975]\n",
      "---------------------------------------------------------------------------------------------------------\n",
      "Intercept                                 2.1600        inf          0        nan         nan         nan\n",
      "Cat[T.Bacon]                             -0.2200        inf         -0        nan         nan         nan\n",
      "Cat[T.Ethel]                             -0.5200        inf         -0        nan         nan         nan\n",
      "Cat[T.Fluffy]                            -0.0700        inf         -0        nan         nan         nan\n",
      "Cat[T.Itty-Bitty]                        -1.0800        inf         -0        nan         nan         nan\n",
      "Cat[T.Lucy]                              -0.2400        inf         -0        nan         nan         nan\n",
      "Cat[T.Mr. Smooches]                       0.5900        inf          0        nan         nan         nan\n",
      "Cat[T.Pandora]                           -0.4100        inf         -0        nan         nan         nan\n",
      "Cat[T.Pork Chop]                         -0.9800        inf         -0        nan         nan         nan\n",
      "Cat[T.Puffy]                             -0.2900        inf         -0        nan         nan         nan\n",
      "Cat[T.Sangria]                           -0.8400        inf         -0        nan         nan         nan\n",
      "Cat[T.Scampers]                          -0.4900        inf         -0        nan         nan         nan\n",
      "Flavor[T.Chicken]                         0.0900        inf          0        nan         nan         nan\n",
      "Flavor[T.Kidney]                          0.4300        inf          0        nan         nan         nan\n",
      "Flavor[T.Salmon]                          0.1000        inf          0        nan         nan         nan\n",
      "Flavor[T.Shrimp]                          0.1800        inf          0        nan         nan         nan\n",
      "Cat[T.Bacon]:Flavor[T.Chicken]            0.5400        inf          0        nan         nan         nan\n",
      "Cat[T.Ethel]:Flavor[T.Chicken]            0.9500        inf          0        nan         nan         nan\n",
      "Cat[T.Fluffy]:Flavor[T.Chicken]           0.1100        inf          0        nan         nan         nan\n",
      "Cat[T.Itty-Bitty]:Flavor[T.Chicken]       0.2500        inf          0        nan         nan         nan\n",
      "Cat[T.Lucy]:Flavor[T.Chicken]             0.2500        inf          0        nan         nan         nan\n",
      "Cat[T.Mr. Smooches]:Flavor[T.Chicken]     0.1100        inf          0        nan         nan         nan\n",
      "Cat[T.Pandora]:Flavor[T.Chicken]          0.3300        inf          0        nan         nan         nan\n",
      "Cat[T.Pork Chop]:Flavor[T.Chicken]        1.1000        inf          0        nan         nan         nan\n",
      "Cat[T.Puffy]:Flavor[T.Chicken]            0.2700        inf          0        nan         nan         nan\n",
      "Cat[T.Sangria]:Flavor[T.Chicken]          1.0400        inf          0        nan         nan         nan\n",
      "Cat[T.Scampers]:Flavor[T.Chicken]         0.6500        inf          0        nan         nan         nan\n",
      "Cat[T.Bacon]:Flavor[T.Kidney]            -0.0500        inf         -0        nan         nan         nan\n",
      "Cat[T.Ethel]:Flavor[T.Kidney]             0.4000        inf          0        nan         nan         nan\n",
      "Cat[T.Fluffy]:Flavor[T.Kidney]           -0.1500        inf         -0        nan         nan         nan\n",
      "Cat[T.Itty-Bitty]:Flavor[T.Kidney]        0.0200        inf          0        nan         nan         nan\n",
      "Cat[T.Lucy]:Flavor[T.Kidney]              0.1200        inf          0        nan         nan         nan\n",
      "Cat[T.Mr. Smooches]:Flavor[T.Kidney]     -0.2200        inf         -0        nan         nan         nan\n",
      "Cat[T.Pandora]:Flavor[T.Kidney]           0.4400        inf          0        nan         nan         nan\n",
      "Cat[T.Pork Chop]:Flavor[T.Kidney]         0.7300        inf          0        nan         nan         nan\n",
      "Cat[T.Puffy]:Flavor[T.Kidney]             0.3200        inf          0        nan         nan         nan\n",
      "Cat[T.Sangria]:Flavor[T.Kidney]           0.7000        inf          0        nan         nan         nan\n",
      "Cat[T.Scampers]:Flavor[T.Kidney]          0.2100        inf          0        nan         nan         nan\n",
      "Cat[T.Bacon]:Flavor[T.Salmon]            -0.1100        inf         -0        nan         nan         nan\n",
      "Cat[T.Ethel]:Flavor[T.Salmon]             0.3100        inf          0        nan         nan         nan\n",
      "Cat[T.Fluffy]:Flavor[T.Salmon]           -0.4000        inf         -0        nan         nan         nan\n",
      "Cat[T.Itty-Bitty]:Flavor[T.Salmon]        0.1100        inf          0        nan         nan         nan\n",
      "Cat[T.Lucy]:Flavor[T.Salmon]             -0.4400        inf         -0        nan         nan         nan\n",
      "Cat[T.Mr. Smooches]:Flavor[T.Salmon]      0.1500        inf          0        nan         nan         nan\n",
      "Cat[T.Pandora]:Flavor[T.Salmon]           0.3900        inf          0        nan         nan         nan\n",
      "Cat[T.Pork Chop]:Flavor[T.Salmon]         0.6800        inf          0        nan         nan         nan\n",
      "Cat[T.Puffy]:Flavor[T.Salmon]             0.3600        inf          0        nan         nan         nan\n",
      "Cat[T.Sangria]:Flavor[T.Salmon]           0.7600        inf          0        nan         nan         nan\n",
      "Cat[T.Scampers]:Flavor[T.Salmon]          0.1900        inf          0        nan         nan         nan\n",
      "Cat[T.Bacon]:Flavor[T.Shrimp]             0.4700        inf          0        nan         nan         nan\n",
      "Cat[T.Ethel]:Flavor[T.Shrimp]             0.6300        inf          0        nan         nan         nan\n",
      "Cat[T.Fluffy]:Flavor[T.Shrimp]           -0.0100        inf         -0        nan         nan         nan\n",
      "Cat[T.Itty-Bitty]:Flavor[T.Shrimp]        0.3300        inf          0        nan         nan         nan\n",
      "Cat[T.Lucy]:Flavor[T.Shrimp]              0.4600        inf          0        nan         nan         nan\n",
      "Cat[T.Mr. Smooches]:Flavor[T.Shrimp]      0.0700        inf          0        nan         nan         nan\n",
      "Cat[T.Pandora]:Flavor[T.Shrimp]           0.4400        inf          0        nan         nan         nan\n",
      "Cat[T.Pork Chop]:Flavor[T.Shrimp]         0.8600        inf          0        nan         nan         nan\n",
      "Cat[T.Puffy]:Flavor[T.Shrimp]             0.6400        inf          0        nan         nan         nan\n",
      "Cat[T.Sangria]:Flavor[T.Shrimp]           0.8600        inf          0        nan         nan         nan\n",
      "Cat[T.Scampers]:Flavor[T.Shrimp]          0.4000        inf          0        nan         nan         nan\n",
      "==============================================================================\n",
      "Omnibus:                        1.808   Durbin-Watson:                   0.935\n",
      "Prob(Omnibus):                  0.405   Jarque-Bera (JB):                1.107\n",
      "Skew:                          -0.006   Prob(JB):                        0.575\n",
      "Kurtosis:                       3.665   Cond. No.                         75.3\n",
      "==============================================================================\n",
      "\n",
      "Notes:\n",
      "[1] Standard Errors assume that the covariance matrix of the errors is correctly specified.\n"
     ]
    },
    {
     "name": "stderr",
     "output_type": "stream",
     "text": [
      "c:\\Users\\mukes\\anaconda3\\lib\\site-packages\\statsmodels\\regression\\linear_model.py:1749: RuntimeWarning: divide by zero encountered in divide\n",
      "  return 1 - (np.divide(self.nobs - self.k_constant, self.df_resid)\n",
      "c:\\Users\\mukes\\anaconda3\\lib\\site-packages\\statsmodels\\regression\\linear_model.py:1749: RuntimeWarning: invalid value encountered in double_scalars\n",
      "  return 1 - (np.divide(self.nobs - self.k_constant, self.df_resid)\n",
      "c:\\Users\\mukes\\anaconda3\\lib\\site-packages\\statsmodels\\regression\\linear_model.py:1671: RuntimeWarning: divide by zero encountered in double_scalars\n",
      "  return np.dot(wresid, wresid) / self.df_resid\n"
     ]
    }
   ],
   "source": [
    "from statsmodels.formula.api import ols\n",
    "import statsmodels.api as sm\n",
    "\n",
    "model = ols('Eaten ~ Cat + Flavor + Cat:Flavor', data=df).fit()\n",
    "summary = model.summary()\n",
    "\n",
    "print(summary)\n"
   ]
  },
  {
   "attachments": {},
   "cell_type": "markdown",
   "metadata": {},
   "source": [
    "In conclusion, based on the provided p-values, all flavors (Beef, Chicken, Kidney, Salmon, Shrimp) have coefficients that are statistically significant in predicting the outcome variable."
   ]
  },
  {
   "attachments": {},
   "cell_type": "markdown",
   "metadata": {},
   "source": [
    "## Tukey_HSD test"
   ]
  },
  {
   "attachments": {},
   "cell_type": "markdown",
   "metadata": {},
   "source": [
    "Using Tukey HSD to test for differences between groups"
   ]
  },
  {
   "cell_type": "code",
   "execution_count": 30,
   "metadata": {},
   "outputs": [
    {
     "name": "stderr",
     "output_type": "stream",
     "text": [
      "c:\\Users\\mukes\\anaconda3\\lib\\site-packages\\statsmodels\\sandbox\\stats\\multicomp.py:1300: RuntimeWarning: divide by zero encountered in divide\n",
      "  st_range = np.abs(meandiffs) / std_pairs #studentized range statistic\n",
      "c:\\Users\\mukes\\anaconda3\\lib\\site-packages\\statsmodels\\sandbox\\stats\\multicomp.py:1300: RuntimeWarning: invalid value encountered in divide\n",
      "  st_range = np.abs(meandiffs) / std_pairs #studentized range statistic\n"
     ]
    },
    {
     "name": "stdout",
     "output_type": "stream",
     "text": [
      "X[Flavor_Beef]: nan\n",
      "X[Flavor_Chicken]: 0.9992960586652285\n",
      "X[Flavor_Kidney]: 0.9976921194906108\n",
      "X[Flavor_Salmon]: 0.9536700364230031\n",
      "X[Flavor_Shrimp]: 0.9999931346348494\n",
      "X[Cat_Apollonia]: 0.99972277849883\n",
      "X[Cat_Bacon]: 0.8858487547905217\n",
      "X[Cat_Ethel]: 0.9845629651008339\n",
      "X[Cat_Fluffy]: 0.9906176561496134\n",
      "X[Cat_Itty-Bitty]: nan\n",
      "X[Cat_Lucy]: 0.9845629651008339\n",
      "X[Cat_Mr. Smooches]: nan\n",
      "X[Cat_Pandora]: 0.9845629651008339\n",
      "X[Cat_Pork Chop]: 0.997638576568923\n",
      "X[Cat_Puffy]: 0.8858487547905216\n",
      "X[Cat_Sangria]: 0.9297852273862243\n",
      "X[Cat_Scampers]: 0.9749810345673767\n"
     ]
    }
   ],
   "source": [
    "import statsmodels.stats.multicomp as mc\n",
    "for i in X.columns:\n",
    "    comp = mc.MultiComparison(X[:][i],Y)\n",
    "    post_hoc_res = comp.tukeyhsd()\n",
    "    print(\"X[{}]: {}\".format(i, post_hoc_res.pvalues.mean()))\n"
   ]
  }
 ],
 "metadata": {
  "kernelspec": {
   "display_name": "base",
   "language": "python",
   "name": "python3"
  },
  "language_info": {
   "codemirror_mode": {
    "name": "ipython",
    "version": 3
   },
   "file_extension": ".py",
   "mimetype": "text/x-python",
   "name": "python",
   "nbconvert_exporter": "python",
   "pygments_lexer": "ipython3",
   "version": "3.9.13"
  },
  "orig_nbformat": 4,
  "vscode": {
   "interpreter": {
    "hash": "51304e485c3ea139da54eebdcffd6e2e412a5cc3707a99f593ae18b19213128f"
   }
  }
 },
 "nbformat": 4,
 "nbformat_minor": 2
}
