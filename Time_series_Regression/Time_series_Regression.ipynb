{
 "cells": [
  {
   "attachments": {},
   "cell_type": "markdown",
   "metadata": {},
   "source": [
    "## Load Data"
   ]
  },
  {
   "cell_type": "code",
   "execution_count": 1,
   "metadata": {},
   "outputs": [],
   "source": [
    "import pandas as pd\n",
    "import numpy as np\n",
    "import seaborn as sns\n",
    "import matplotlib.pyplot as plt\n",
    "%matplotlib inline"
   ]
  },
  {
   "cell_type": "code",
   "execution_count": 2,
   "metadata": {},
   "outputs": [],
   "source": [
    "df = pd.read_excel('TSR.xlsx',sheet_name= 0)"
   ]
  },
  {
   "cell_type": "code",
   "execution_count": 3,
   "metadata": {},
   "outputs": [
    {
     "data": {
      "text/html": [
       "<div>\n",
       "<style scoped>\n",
       "    .dataframe tbody tr th:only-of-type {\n",
       "        vertical-align: middle;\n",
       "    }\n",
       "\n",
       "    .dataframe tbody tr th {\n",
       "        vertical-align: top;\n",
       "    }\n",
       "\n",
       "    .dataframe thead th {\n",
       "        text-align: right;\n",
       "    }\n",
       "</style>\n",
       "<table border=\"1\" class=\"dataframe\">\n",
       "  <thead>\n",
       "    <tr style=\"text-align: right;\">\n",
       "      <th></th>\n",
       "      <th>Monthly car sales in Quebec 1960-1968</th>\n",
       "      <th>Unnamed: 1</th>\n",
       "    </tr>\n",
       "  </thead>\n",
       "  <tbody>\n",
       "    <tr>\n",
       "      <th>0</th>\n",
       "      <td>Exported from datamarket.com</td>\n",
       "      <td>NaN</td>\n",
       "    </tr>\n",
       "    <tr>\n",
       "      <th>1</th>\n",
       "      <td>NaN</td>\n",
       "      <td>NaN</td>\n",
       "    </tr>\n",
       "    <tr>\n",
       "      <th>2</th>\n",
       "      <td>Yrmo</td>\n",
       "      <td>Monthly car sales in Quebec 1960-1968</td>\n",
       "    </tr>\n",
       "    <tr>\n",
       "      <th>3</th>\n",
       "      <td>1960-01-01 00:00:00</td>\n",
       "      <td>6550</td>\n",
       "    </tr>\n",
       "    <tr>\n",
       "      <th>4</th>\n",
       "      <td>1960-02-01 00:00:00</td>\n",
       "      <td>8728</td>\n",
       "    </tr>\n",
       "  </tbody>\n",
       "</table>\n",
       "</div>"
      ],
      "text/plain": [
       "  Monthly car sales in Quebec 1960-1968                             Unnamed: 1\n",
       "0          Exported from datamarket.com                                    NaN\n",
       "1                                   NaN                                    NaN\n",
       "2                                  Yrmo  Monthly car sales in Quebec 1960-1968\n",
       "3                   1960-01-01 00:00:00                                   6550\n",
       "4                   1960-02-01 00:00:00                                   8728"
      ]
     },
     "execution_count": 3,
     "metadata": {},
     "output_type": "execute_result"
    }
   ],
   "source": [
    "type(df)\n",
    "df.head()"
   ]
  },
  {
   "cell_type": "code",
   "execution_count": 4,
   "metadata": {},
   "outputs": [
    {
     "data": {
      "text/html": [
       "<div>\n",
       "<style scoped>\n",
       "    .dataframe tbody tr th:only-of-type {\n",
       "        vertical-align: middle;\n",
       "    }\n",
       "\n",
       "    .dataframe tbody tr th {\n",
       "        vertical-align: top;\n",
       "    }\n",
       "\n",
       "    .dataframe thead th {\n",
       "        text-align: right;\n",
       "    }\n",
       "</style>\n",
       "<table border=\"1\" class=\"dataframe\">\n",
       "  <thead>\n",
       "    <tr style=\"text-align: right;\">\n",
       "      <th></th>\n",
       "      <th>Monthly car sales in Quebec 1960-1968</th>\n",
       "      <th>Unnamed: 1</th>\n",
       "    </tr>\n",
       "  </thead>\n",
       "  <tbody>\n",
       "    <tr>\n",
       "      <th>3</th>\n",
       "      <td>1960-01-01 00:00:00</td>\n",
       "      <td>6550</td>\n",
       "    </tr>\n",
       "    <tr>\n",
       "      <th>4</th>\n",
       "      <td>1960-02-01 00:00:00</td>\n",
       "      <td>8728</td>\n",
       "    </tr>\n",
       "    <tr>\n",
       "      <th>5</th>\n",
       "      <td>1960-03-01 00:00:00</td>\n",
       "      <td>12026</td>\n",
       "    </tr>\n",
       "    <tr>\n",
       "      <th>6</th>\n",
       "      <td>1960-04-01 00:00:00</td>\n",
       "      <td>14395</td>\n",
       "    </tr>\n",
       "    <tr>\n",
       "      <th>7</th>\n",
       "      <td>1960-05-01 00:00:00</td>\n",
       "      <td>14587</td>\n",
       "    </tr>\n",
       "    <tr>\n",
       "      <th>...</th>\n",
       "      <td>...</td>\n",
       "      <td>...</td>\n",
       "    </tr>\n",
       "    <tr>\n",
       "      <th>106</th>\n",
       "      <td>1968-08-01 00:00:00</td>\n",
       "      <td>16722</td>\n",
       "    </tr>\n",
       "    <tr>\n",
       "      <th>107</th>\n",
       "      <td>1968-09-01 00:00:00</td>\n",
       "      <td>14385</td>\n",
       "    </tr>\n",
       "    <tr>\n",
       "      <th>108</th>\n",
       "      <td>1968-10-01 00:00:00</td>\n",
       "      <td>21342</td>\n",
       "    </tr>\n",
       "    <tr>\n",
       "      <th>109</th>\n",
       "      <td>1968-11-01 00:00:00</td>\n",
       "      <td>17180</td>\n",
       "    </tr>\n",
       "    <tr>\n",
       "      <th>110</th>\n",
       "      <td>1968-12-01 00:00:00</td>\n",
       "      <td>14577</td>\n",
       "    </tr>\n",
       "  </tbody>\n",
       "</table>\n",
       "<p>108 rows × 2 columns</p>\n",
       "</div>"
      ],
      "text/plain": [
       "    Monthly car sales in Quebec 1960-1968 Unnamed: 1\n",
       "3                     1960-01-01 00:00:00       6550\n",
       "4                     1960-02-01 00:00:00       8728\n",
       "5                     1960-03-01 00:00:00      12026\n",
       "6                     1960-04-01 00:00:00      14395\n",
       "7                     1960-05-01 00:00:00      14587\n",
       "..                                    ...        ...\n",
       "106                   1968-08-01 00:00:00      16722\n",
       "107                   1968-09-01 00:00:00      14385\n",
       "108                   1968-10-01 00:00:00      21342\n",
       "109                   1968-11-01 00:00:00      17180\n",
       "110                   1968-12-01 00:00:00      14577\n",
       "\n",
       "[108 rows x 2 columns]"
      ]
     },
     "execution_count": 4,
     "metadata": {},
     "output_type": "execute_result"
    }
   ],
   "source": [
    "df = df.iloc[3:]\n",
    "df"
   ]
  },
  {
   "cell_type": "code",
   "execution_count": 5,
   "metadata": {},
   "outputs": [
    {
     "data": {
      "text/html": [
       "<div>\n",
       "<style scoped>\n",
       "    .dataframe tbody tr th:only-of-type {\n",
       "        vertical-align: middle;\n",
       "    }\n",
       "\n",
       "    .dataframe tbody tr th {\n",
       "        vertical-align: top;\n",
       "    }\n",
       "\n",
       "    .dataframe thead th {\n",
       "        text-align: right;\n",
       "    }\n",
       "</style>\n",
       "<table border=\"1\" class=\"dataframe\">\n",
       "  <thead>\n",
       "    <tr style=\"text-align: right;\">\n",
       "      <th></th>\n",
       "      <th>date</th>\n",
       "      <th>sales</th>\n",
       "    </tr>\n",
       "  </thead>\n",
       "  <tbody>\n",
       "    <tr>\n",
       "      <th>3</th>\n",
       "      <td>1960-01-01 00:00:00</td>\n",
       "      <td>6550</td>\n",
       "    </tr>\n",
       "    <tr>\n",
       "      <th>4</th>\n",
       "      <td>1960-02-01 00:00:00</td>\n",
       "      <td>8728</td>\n",
       "    </tr>\n",
       "    <tr>\n",
       "      <th>5</th>\n",
       "      <td>1960-03-01 00:00:00</td>\n",
       "      <td>12026</td>\n",
       "    </tr>\n",
       "    <tr>\n",
       "      <th>6</th>\n",
       "      <td>1960-04-01 00:00:00</td>\n",
       "      <td>14395</td>\n",
       "    </tr>\n",
       "    <tr>\n",
       "      <th>7</th>\n",
       "      <td>1960-05-01 00:00:00</td>\n",
       "      <td>14587</td>\n",
       "    </tr>\n",
       "    <tr>\n",
       "      <th>...</th>\n",
       "      <td>...</td>\n",
       "      <td>...</td>\n",
       "    </tr>\n",
       "    <tr>\n",
       "      <th>106</th>\n",
       "      <td>1968-08-01 00:00:00</td>\n",
       "      <td>16722</td>\n",
       "    </tr>\n",
       "    <tr>\n",
       "      <th>107</th>\n",
       "      <td>1968-09-01 00:00:00</td>\n",
       "      <td>14385</td>\n",
       "    </tr>\n",
       "    <tr>\n",
       "      <th>108</th>\n",
       "      <td>1968-10-01 00:00:00</td>\n",
       "      <td>21342</td>\n",
       "    </tr>\n",
       "    <tr>\n",
       "      <th>109</th>\n",
       "      <td>1968-11-01 00:00:00</td>\n",
       "      <td>17180</td>\n",
       "    </tr>\n",
       "    <tr>\n",
       "      <th>110</th>\n",
       "      <td>1968-12-01 00:00:00</td>\n",
       "      <td>14577</td>\n",
       "    </tr>\n",
       "  </tbody>\n",
       "</table>\n",
       "<p>108 rows × 2 columns</p>\n",
       "</div>"
      ],
      "text/plain": [
       "                    date  sales\n",
       "3    1960-01-01 00:00:00   6550\n",
       "4    1960-02-01 00:00:00   8728\n",
       "5    1960-03-01 00:00:00  12026\n",
       "6    1960-04-01 00:00:00  14395\n",
       "7    1960-05-01 00:00:00  14587\n",
       "..                   ...    ...\n",
       "106  1968-08-01 00:00:00  16722\n",
       "107  1968-09-01 00:00:00  14385\n",
       "108  1968-10-01 00:00:00  21342\n",
       "109  1968-11-01 00:00:00  17180\n",
       "110  1968-12-01 00:00:00  14577\n",
       "\n",
       "[108 rows x 2 columns]"
      ]
     },
     "execution_count": 5,
     "metadata": {},
     "output_type": "execute_result"
    }
   ],
   "source": [
    "df.rename(columns = {'Monthly car sales in Quebec 1960-1968':'date','Unnamed: 1':'sales'}, inplace = True)\n",
    "df"
   ]
  },
  {
   "cell_type": "code",
   "execution_count": 6,
   "metadata": {},
   "outputs": [],
   "source": [
    "df['date'] = pd.to_datetime(df['date'])"
   ]
  },
  {
   "cell_type": "code",
   "execution_count": 7,
   "metadata": {},
   "outputs": [
    {
     "data": {
      "text/html": [
       "<div>\n",
       "<style scoped>\n",
       "    .dataframe tbody tr th:only-of-type {\n",
       "        vertical-align: middle;\n",
       "    }\n",
       "\n",
       "    .dataframe tbody tr th {\n",
       "        vertical-align: top;\n",
       "    }\n",
       "\n",
       "    .dataframe thead th {\n",
       "        text-align: right;\n",
       "    }\n",
       "</style>\n",
       "<table border=\"1\" class=\"dataframe\">\n",
       "  <thead>\n",
       "    <tr style=\"text-align: right;\">\n",
       "      <th></th>\n",
       "      <th>date</th>\n",
       "      <th>sales</th>\n",
       "      <th>year</th>\n",
       "      <th>month</th>\n",
       "    </tr>\n",
       "  </thead>\n",
       "  <tbody>\n",
       "    <tr>\n",
       "      <th>3</th>\n",
       "      <td>1960-01-01</td>\n",
       "      <td>6550</td>\n",
       "      <td>1960</td>\n",
       "      <td>1</td>\n",
       "    </tr>\n",
       "    <tr>\n",
       "      <th>4</th>\n",
       "      <td>1960-02-01</td>\n",
       "      <td>8728</td>\n",
       "      <td>1960</td>\n",
       "      <td>2</td>\n",
       "    </tr>\n",
       "    <tr>\n",
       "      <th>5</th>\n",
       "      <td>1960-03-01</td>\n",
       "      <td>12026</td>\n",
       "      <td>1960</td>\n",
       "      <td>3</td>\n",
       "    </tr>\n",
       "    <tr>\n",
       "      <th>6</th>\n",
       "      <td>1960-04-01</td>\n",
       "      <td>14395</td>\n",
       "      <td>1960</td>\n",
       "      <td>4</td>\n",
       "    </tr>\n",
       "    <tr>\n",
       "      <th>7</th>\n",
       "      <td>1960-05-01</td>\n",
       "      <td>14587</td>\n",
       "      <td>1960</td>\n",
       "      <td>5</td>\n",
       "    </tr>\n",
       "    <tr>\n",
       "      <th>...</th>\n",
       "      <td>...</td>\n",
       "      <td>...</td>\n",
       "      <td>...</td>\n",
       "      <td>...</td>\n",
       "    </tr>\n",
       "    <tr>\n",
       "      <th>106</th>\n",
       "      <td>1968-08-01</td>\n",
       "      <td>16722</td>\n",
       "      <td>1968</td>\n",
       "      <td>8</td>\n",
       "    </tr>\n",
       "    <tr>\n",
       "      <th>107</th>\n",
       "      <td>1968-09-01</td>\n",
       "      <td>14385</td>\n",
       "      <td>1968</td>\n",
       "      <td>9</td>\n",
       "    </tr>\n",
       "    <tr>\n",
       "      <th>108</th>\n",
       "      <td>1968-10-01</td>\n",
       "      <td>21342</td>\n",
       "      <td>1968</td>\n",
       "      <td>10</td>\n",
       "    </tr>\n",
       "    <tr>\n",
       "      <th>109</th>\n",
       "      <td>1968-11-01</td>\n",
       "      <td>17180</td>\n",
       "      <td>1968</td>\n",
       "      <td>11</td>\n",
       "    </tr>\n",
       "    <tr>\n",
       "      <th>110</th>\n",
       "      <td>1968-12-01</td>\n",
       "      <td>14577</td>\n",
       "      <td>1968</td>\n",
       "      <td>12</td>\n",
       "    </tr>\n",
       "  </tbody>\n",
       "</table>\n",
       "<p>108 rows × 4 columns</p>\n",
       "</div>"
      ],
      "text/plain": [
       "          date  sales  year  month\n",
       "3   1960-01-01   6550  1960      1\n",
       "4   1960-02-01   8728  1960      2\n",
       "5   1960-03-01  12026  1960      3\n",
       "6   1960-04-01  14395  1960      4\n",
       "7   1960-05-01  14587  1960      5\n",
       "..         ...    ...   ...    ...\n",
       "106 1968-08-01  16722  1968      8\n",
       "107 1968-09-01  14385  1968      9\n",
       "108 1968-10-01  21342  1968     10\n",
       "109 1968-11-01  17180  1968     11\n",
       "110 1968-12-01  14577  1968     12\n",
       "\n",
       "[108 rows x 4 columns]"
      ]
     },
     "execution_count": 7,
     "metadata": {},
     "output_type": "execute_result"
    }
   ],
   "source": [
    "df['year'] = df['date'].dt.year\n",
    "df['month'] = df['date'].dt.month\n",
    "df"
   ]
  },
  {
   "cell_type": "code",
   "execution_count": 8,
   "metadata": {},
   "outputs": [],
   "source": [
    "df2 = df"
   ]
  },
  {
   "cell_type": "code",
   "execution_count": 9,
   "metadata": {},
   "outputs": [],
   "source": [
    "df = df.drop(['date'], axis=1)"
   ]
  },
  {
   "cell_type": "code",
   "execution_count": 10,
   "metadata": {},
   "outputs": [],
   "source": [
    "df['year'] = df['year'].astype('int')\n",
    "df['month'] = df['month'].astype('int')\n",
    "df['sales'] = df['sales'].astype('float')"
   ]
  },
  {
   "cell_type": "code",
   "execution_count": 11,
   "metadata": {},
   "outputs": [
    {
     "data": {
      "text/plain": [
       "sales    0\n",
       "year     0\n",
       "month    0\n",
       "dtype: int64"
      ]
     },
     "execution_count": 11,
     "metadata": {},
     "output_type": "execute_result"
    }
   ],
   "source": [
    "df.isna().sum()"
   ]
  },
  {
   "cell_type": "code",
   "execution_count": 12,
   "metadata": {},
   "outputs": [
    {
     "data": {
      "text/html": [
       "<div>\n",
       "<style scoped>\n",
       "    .dataframe tbody tr th:only-of-type {\n",
       "        vertical-align: middle;\n",
       "    }\n",
       "\n",
       "    .dataframe tbody tr th {\n",
       "        vertical-align: top;\n",
       "    }\n",
       "\n",
       "    .dataframe thead th {\n",
       "        text-align: right;\n",
       "    }\n",
       "</style>\n",
       "<table border=\"1\" class=\"dataframe\">\n",
       "  <thead>\n",
       "    <tr style=\"text-align: right;\">\n",
       "      <th></th>\n",
       "      <th>sales</th>\n",
       "      <th>year</th>\n",
       "      <th>month</th>\n",
       "    </tr>\n",
       "  </thead>\n",
       "  <tbody>\n",
       "    <tr>\n",
       "      <th>count</th>\n",
       "      <td>108.000000</td>\n",
       "      <td>108.000000</td>\n",
       "      <td>108.000000</td>\n",
       "    </tr>\n",
       "    <tr>\n",
       "      <th>mean</th>\n",
       "      <td>14595.111111</td>\n",
       "      <td>1964.000000</td>\n",
       "      <td>6.500000</td>\n",
       "    </tr>\n",
       "    <tr>\n",
       "      <th>std</th>\n",
       "      <td>4525.213913</td>\n",
       "      <td>2.594026</td>\n",
       "      <td>3.468146</td>\n",
       "    </tr>\n",
       "    <tr>\n",
       "      <th>min</th>\n",
       "      <td>5568.000000</td>\n",
       "      <td>1960.000000</td>\n",
       "      <td>1.000000</td>\n",
       "    </tr>\n",
       "    <tr>\n",
       "      <th>25%</th>\n",
       "      <td>11391.250000</td>\n",
       "      <td>1962.000000</td>\n",
       "      <td>3.750000</td>\n",
       "    </tr>\n",
       "    <tr>\n",
       "      <th>50%</th>\n",
       "      <td>14076.000000</td>\n",
       "      <td>1964.000000</td>\n",
       "      <td>6.500000</td>\n",
       "    </tr>\n",
       "    <tr>\n",
       "      <th>75%</th>\n",
       "      <td>17595.750000</td>\n",
       "      <td>1966.000000</td>\n",
       "      <td>9.250000</td>\n",
       "    </tr>\n",
       "    <tr>\n",
       "      <th>max</th>\n",
       "      <td>26099.000000</td>\n",
       "      <td>1968.000000</td>\n",
       "      <td>12.000000</td>\n",
       "    </tr>\n",
       "  </tbody>\n",
       "</table>\n",
       "</div>"
      ],
      "text/plain": [
       "              sales         year       month\n",
       "count    108.000000   108.000000  108.000000\n",
       "mean   14595.111111  1964.000000    6.500000\n",
       "std     4525.213913     2.594026    3.468146\n",
       "min     5568.000000  1960.000000    1.000000\n",
       "25%    11391.250000  1962.000000    3.750000\n",
       "50%    14076.000000  1964.000000    6.500000\n",
       "75%    17595.750000  1966.000000    9.250000\n",
       "max    26099.000000  1968.000000   12.000000"
      ]
     },
     "execution_count": 12,
     "metadata": {},
     "output_type": "execute_result"
    }
   ],
   "source": [
    "df.describe()"
   ]
  },
  {
   "attachments": {},
   "cell_type": "markdown",
   "metadata": {},
   "source": [
    "##### We assume null hypothesis such that there is no relation between input variables and output variables which is that the beta coefficients is equal to zero.\n",
    "##### Alternate hypothesis is that there is relation between input and output variable so that the beta coefficients are not zero"
   ]
  },
  {
   "attachments": {},
   "cell_type": "markdown",
   "metadata": {},
   "source": [
    "## Exploratory Data Analysis"
   ]
  },
  {
   "cell_type": "code",
   "execution_count": 13,
   "metadata": {},
   "outputs": [
    {
     "data": {
      "text/plain": [
       "<seaborn.axisgrid.PairGrid at 0x1ad79b9baf0>"
      ]
     },
     "execution_count": 13,
     "metadata": {},
     "output_type": "execute_result"
    },
    {
     "data": {
      "image/png": "[encoded data removed]",
      "text/plain": [
       "<Figure size 750x750 with 12 Axes>"
      ]
     },
     "metadata": {},
     "output_type": "display_data"
    }
   ],
   "source": [
    "sns.pairplot(df)"
   ]
  },
  {
   "attachments": {},
   "cell_type": "markdown",
   "metadata": {},
   "source": [
    "## Split data"
   ]
  },
  {
   "cell_type": "code",
   "execution_count": 14,
   "metadata": {},
   "outputs": [],
   "source": [
    "X = df.drop(['sales'],axis=1)\n",
    "Y = df['sales']"
   ]
  },
  {
   "cell_type": "code",
   "execution_count": 15,
   "metadata": {},
   "outputs": [
    {
     "data": {
      "text/html": [
       "<div>\n",
       "<style scoped>\n",
       "    .dataframe tbody tr th:only-of-type {\n",
       "        vertical-align: middle;\n",
       "    }\n",
       "\n",
       "    .dataframe tbody tr th {\n",
       "        vertical-align: top;\n",
       "    }\n",
       "\n",
       "    .dataframe thead th {\n",
       "        text-align: right;\n",
       "    }\n",
       "</style>\n",
       "<table border=\"1\" class=\"dataframe\">\n",
       "  <thead>\n",
       "    <tr style=\"text-align: right;\">\n",
       "      <th></th>\n",
       "      <th>year</th>\n",
       "      <th>month</th>\n",
       "    </tr>\n",
       "  </thead>\n",
       "  <tbody>\n",
       "    <tr>\n",
       "      <th>3</th>\n",
       "      <td>1960</td>\n",
       "      <td>1</td>\n",
       "    </tr>\n",
       "    <tr>\n",
       "      <th>4</th>\n",
       "      <td>1960</td>\n",
       "      <td>2</td>\n",
       "    </tr>\n",
       "    <tr>\n",
       "      <th>5</th>\n",
       "      <td>1960</td>\n",
       "      <td>3</td>\n",
       "    </tr>\n",
       "    <tr>\n",
       "      <th>6</th>\n",
       "      <td>1960</td>\n",
       "      <td>4</td>\n",
       "    </tr>\n",
       "    <tr>\n",
       "      <th>7</th>\n",
       "      <td>1960</td>\n",
       "      <td>5</td>\n",
       "    </tr>\n",
       "  </tbody>\n",
       "</table>\n",
       "</div>"
      ],
      "text/plain": [
       "   year  month\n",
       "3  1960      1\n",
       "4  1960      2\n",
       "5  1960      3\n",
       "6  1960      4\n",
       "7  1960      5"
      ]
     },
     "execution_count": 15,
     "metadata": {},
     "output_type": "execute_result"
    }
   ],
   "source": [
    "X.head()"
   ]
  },
  {
   "cell_type": "code",
   "execution_count": 16,
   "metadata": {},
   "outputs": [],
   "source": [
    "from sklearn.model_selection import train_test_split\n",
    "X_train, X_test, y_train, y_test = train_test_split(X, Y, test_size=0.3, random_state=42)"
   ]
  },
  {
   "attachments": {},
   "cell_type": "markdown",
   "metadata": {},
   "source": [
    "## Modeling"
   ]
  },
  {
   "cell_type": "code",
   "execution_count": 17,
   "metadata": {},
   "outputs": [
    {
     "data": {
      "text/plain": [
       "LinearRegression()"
      ]
     },
     "execution_count": 17,
     "metadata": {},
     "output_type": "execute_result"
    }
   ],
   "source": [
    "from sklearn.linear_model import LinearRegression\n",
    "model = LinearRegression()\n",
    "model.fit(X_train,y_train)"
   ]
  },
  {
   "attachments": {},
   "cell_type": "markdown",
   "metadata": {},
   "source": [
    "#### Intercept and Beta coefficient"
   ]
  },
  {
   "cell_type": "code",
   "execution_count": 18,
   "metadata": {},
   "outputs": [
    {
     "name": "stdout",
     "output_type": "stream",
     "text": [
      "-1601958.8647243034\n",
      "[ 823.480367   -131.82790386]\n"
     ]
    }
   ],
   "source": [
    "print(model.intercept_)\n",
    "print(model.coef_)"
   ]
  },
  {
   "attachments": {},
   "cell_type": "markdown",
   "metadata": {},
   "source": [
    "## Predictions"
   ]
  },
  {
   "cell_type": "code",
   "execution_count": 19,
   "metadata": {},
   "outputs": [
    {
     "data": {
      "text/plain": [
       "array([16212.56936686, 10612.54764558, 11403.51506874, 15421.6019437 ,\n",
       "       15784.57271144, 15125.43319214, 12786.81999501, 13214.81665043,\n",
       "       16245.0823107 , 10480.71974173, 15685.25775142, 15948.91355914,\n",
       "       11930.82668417, 15817.08565528, 11963.33962802, 14861.77738442,\n",
       "       14170.12492129, 16344.39727071, 17200.39058155, 13610.30036201,\n",
       "       12754.30705117, 14401.26778516, 15520.91690372, 13314.13161045,\n",
       "       11436.02801258, 12654.99209115, 12951.16084271, 17991.35800471,\n",
       "       12358.82333959, 13346.64455429, 17167.87763771, 17036.04973385,\n",
       "       10744.37554944])"
      ]
     },
     "execution_count": 19,
     "metadata": {},
     "output_type": "execute_result"
    }
   ],
   "source": [
    "test_pred = model.predict(X_test)\n",
    "test_pred"
   ]
  },
  {
   "attachments": {},
   "cell_type": "markdown",
   "metadata": {},
   "source": [
    "## Evaluation"
   ]
  },
  {
   "cell_type": "code",
   "execution_count": 20,
   "metadata": {},
   "outputs": [],
   "source": [
    "from sklearn.metrics import mean_absolute_error\n",
    "from sklearn.metrics import mean_squared_error\n",
    "from sklearn.metrics import r2_score"
   ]
  },
  {
   "cell_type": "code",
   "execution_count": 21,
   "metadata": {},
   "outputs": [
    {
     "name": "stdout",
     "output_type": "stream",
     "text": [
      "MAE:  2816.8134135643627\n",
      "MSE:  12928235.126246667\n",
      "RSME:  53.07366026160587\n",
      "R_score:  -1.9141540948929379\n",
      "model score:  0.47714630784268997\n"
     ]
    }
   ],
   "source": [
    "print(\"MAE: \",mean_absolute_error(test_pred,y_test))\n",
    "print(\"MSE: \",mean_squared_error(test_pred,y_test))\n",
    "print(\"RSME: \",np.sqrt(mean_absolute_error(test_pred,y_test)))\n",
    "print(\"R_score: \",r2_score(test_pred,y_test))\n",
    "print(\"model score: \",model.score(X_test,y_test))"
   ]
  },
  {
   "attachments": {},
   "cell_type": "markdown",
   "metadata": {},
   "source": [
    "## Checking for Assumptions"
   ]
  },
  {
   "attachments": {},
   "cell_type": "markdown",
   "metadata": {},
   "source": [
    "## Linearity of error"
   ]
  },
  {
   "cell_type": "code",
   "execution_count": 22,
   "metadata": {},
   "outputs": [
    {
     "data": {
      "text/plain": [
       "80     3720.430633\n",
       "13    -1248.547646\n",
       "7      3183.484931\n",
       "86     -701.601944\n",
       "65     4205.427289\n",
       "70     -358.433192\n",
       "33     -643.819995\n",
       "48      717.183350\n",
       "98    -2532.082311\n",
       "14    -2024.719742\n",
       "84      449.742249\n",
       "82     -835.913559\n",
       "3     -5380.826684\n",
       "83    -2416.085655\n",
       "21     -820.339628\n",
       "72     2268.222616\n",
       "59    -3378.124921\n",
       "79     4332.602729\n",
       "109     -20.390582\n",
       "45    -1342.300362\n",
       "15    -5517.307051\n",
       "39    -3539.267785\n",
       "67     8020.083096\n",
       "29     1885.868390\n",
       "25     1322.971987\n",
       "34    -3657.992091\n",
       "50     -323.160843\n",
       "103    8107.641995\n",
       "18     1425.176660\n",
       "47    -5384.644554\n",
       "91     6913.122362\n",
       "92     5077.950266\n",
       "12    -1199.375549\n",
       "Name: sales, dtype: float64"
      ]
     },
     "execution_count": 22,
     "metadata": {},
     "output_type": "execute_result"
    }
   ],
   "source": [
    "res = y_test - test_pred\n",
    "res"
   ]
  },
  {
   "cell_type": "code",
   "execution_count": 23,
   "metadata": {},
   "outputs": [
    {
     "data": {
      "image/png": "[encoded data removed]",
      "text/plain": [
       "<Figure size 640x480 with 1 Axes>"
      ]
     },
     "metadata": {},
     "output_type": "display_data"
    }
   ],
   "source": [
    "plt.scatter(y_test,test_pred)\n",
    "plt.xlabel('actual')\n",
    "plt.ylabel('predicted')\n",
    "plt.show()"
   ]
  },
  {
   "attachments": {},
   "cell_type": "markdown",
   "metadata": {},
   "source": [
    "## Normality of error"
   ]
  },
  {
   "cell_type": "code",
   "execution_count": 24,
   "metadata": {},
   "outputs": [
    {
     "data": {
      "text/plain": [
       "<function matplotlib.pyplot.show(close=None, block=None)>"
      ]
     },
     "execution_count": 24,
     "metadata": {},
     "output_type": "execute_result"
    },
    {
     "data": {
      "image/png": "[encoded data removed]",
      "text/plain": [
       "<Figure size 500x500 with 1 Axes>"
      ]
     },
     "metadata": {},
     "output_type": "display_data"
    }
   ],
   "source": [
    "sns.displot(res,kde=True)\n",
    "plt.show"
   ]
  },
  {
   "attachments": {},
   "cell_type": "markdown",
   "metadata": {},
   "source": [
    "## Equality of varience"
   ]
  },
  {
   "cell_type": "code",
   "execution_count": 25,
   "metadata": {},
   "outputs": [
    {
     "data": {
      "image/png": "[encoded data removed]",
      "text/plain": [
       "<Figure size 640x480 with 1 Axes>"
      ]
     },
     "metadata": {},
     "output_type": "display_data"
    }
   ],
   "source": [
    "plt.scatter(test_pred,res,c='r')\n",
    "plt.axhline(y=0,color='blue')\n",
    "plt.xlabel('actual')\n",
    "plt.ylabel('residuals')\n",
    "plt.show()"
   ]
  },
  {
   "attachments": {},
   "cell_type": "markdown",
   "metadata": {},
   "source": [
    "## Durbin-Watson test"
   ]
  },
  {
   "attachments": {},
   "cell_type": "markdown",
   "metadata": {},
   "source": [
    "(null hypothesis): There is no correlation among the residuals.\n",
    "\n",
    "(alternative hypothesis): The residuals are autocorrelated."
   ]
  },
  {
   "attachments": {},
   "cell_type": "markdown",
   "metadata": {},
   "source": [
    "## varibles significance"
   ]
  },
  {
   "cell_type": "code",
   "execution_count": 26,
   "metadata": {},
   "outputs": [
    {
     "name": "stdout",
     "output_type": "stream",
     "text": [
      "                            OLS Regression Results                            \n",
      "==============================================================================\n",
      "Dep. Variable:                  sales   R-squared:                       0.355\n",
      "Model:                            OLS   Adj. R-squared:                  0.342\n",
      "Method:                 Least Squares   F-statistic:                     28.87\n",
      "Date:                Sun, 21 May 2023   Prob (F-statistic):           1.02e-10\n",
      "Time:                        19:54:29   Log-Likelihood:                -1038.2\n",
      "No. Observations:                 108   AIC:                             2082.\n",
      "Df Residuals:                     105   BIC:                             2090.\n",
      "Df Model:                           2                                         \n",
      "Covariance Type:            nonrobust                                         \n",
      "==============================================================================\n",
      "                 coef    std err          t      P>|t|      [0.025      0.975]\n",
      "------------------------------------------------------------------------------\n",
      "Intercept  -1.973e+06   2.69e+05     -7.346      0.000   -2.51e+06   -1.44e+06\n",
      "year        1012.5250    136.749      7.404      0.000     741.377    1283.673\n",
      "month       -174.5400    102.282     -1.706      0.091    -377.347      28.267\n",
      "==============================================================================\n",
      "Omnibus:                        6.193   Durbin-Watson:                   0.910\n",
      "Prob(Omnibus):                  0.045   Jarque-Bera (JB):                3.660\n",
      "Skew:                           0.258   Prob(JB):                        0.160\n",
      "Kurtosis:                       2.260   Cond. No.                     1.49e+06\n",
      "==============================================================================\n",
      "\n",
      "Notes:\n",
      "[1] Standard Errors assume that the covariance matrix of the errors is correctly specified.\n",
      "[2] The condition number is large, 1.49e+06. This might indicate that there are\n",
      "strong multicollinearity or other numerical problems.\n"
     ]
    }
   ],
   "source": [
    "from statsmodels.formula.api import ols\n",
    "\n",
    "model = ols('sales ~ year+month', data=df).fit()\n",
    "\n",
    "# Access the summary information\n",
    "summary = model.summary()\n",
    "\n",
    "# Print the summary\n",
    "print(summary)"
   ]
  },
  {
   "cell_type": "code",
   "execution_count": 27,
   "metadata": {},
   "outputs": [
    {
     "data": {
      "text/plain": [
       "0.9098763668833983"
      ]
     },
     "execution_count": 27,
     "metadata": {},
     "output_type": "execute_result"
    }
   ],
   "source": [
    "from statsmodels.stats.stattools import durbin_watson\n",
    "\n",
    "#perform Durbin-Watson test\n",
    "durbin_watson(model.resid)"
   ]
  },
  {
   "attachments": {},
   "cell_type": "markdown",
   "metadata": {},
   "source": [
    "A test statistic of 2 indicates no serial correlation.\n",
    "The closer the test statistics is to 0, the more evidence of positive serial correlation.\n",
    "The closer the test statistics is to 4, the more evidence of negative serial correlation.\n",
    "\n",
    "since the test statistic is close to 0 there is positive serial correlation."
   ]
  },
  {
   "attachments": {},
   "cell_type": "markdown",
   "metadata": {},
   "source": [
    "### Making Seasonal Indices\n"
   ]
  },
  {
   "cell_type": "code",
   "execution_count": 28,
   "metadata": {},
   "outputs": [
    {
     "name": "stdout",
     "output_type": "stream",
     "text": [
      "date\n",
      "1960-01-01     -2.016847\n",
      "1960-02-01     -3.078339\n",
      "1960-03-01      4.170623\n",
      "1960-04-01       2.90582\n",
      "1960-05-01      2.198841\n",
      "                 ...    \n",
      "1968-08-01     -5.069236\n",
      "1968-09-01      -3.06325\n",
      "1968-10-01     -34.72783\n",
      "1968-11-01   -323.779734\n",
      "1968-12-01     -6.014226\n",
      "Name: deseasonalized_sales, Length: 108, dtype: object\n"
     ]
    }
   ],
   "source": [
    "import pandas as pd\n",
    "from statsmodels.tsa.seasonal import seasonal_decompose\n",
    "\n",
    "# Assume you have a DataFrame 'df' with a 'sales' column and 'date' column representing the original data\n",
    "\n",
    "# Convert the 'date' column to a datetime data type if needed\n",
    "df2['date'] = pd.to_datetime(df2['date'])\n",
    "\n",
    "# Set the 'date' column as the DataFrame index\n",
    "df2.set_index('date', inplace=True)\n",
    "\n",
    "# Perform seasonal decomposition\n",
    "decomposition = seasonal_decompose(df2['sales'], model='additive')\n",
    "\n",
    "# Obtain the seasonal component\n",
    "seasonal_component = decomposition.seasonal\n",
    "\n",
    "# Deseasonalize the data\n",
    "df2['deseasonalized_sales'] = df2['sales'] / seasonal_component\n",
    "\n",
    "# Print the deseasonalized sales\n",
    "print(df2['deseasonalized_sales'])\n"
   ]
  },
  {
   "cell_type": "code",
   "execution_count": 29,
   "metadata": {},
   "outputs": [
    {
     "data": {
      "image/png": "[encoded data removed]",
      "text/plain": [
       "<Figure size 640x480 with 1 Axes>"
      ]
     },
     "metadata": {},
     "output_type": "display_data"
    }
   ],
   "source": [
    "plt.plot(df['month'], df['sales'], 'o', markersize=5, label='Original Data')\n",
    "plt.plot(df2['month'], df2['deseasonalized_sales'], 'o',color='red', markersize=5, label='Seasonalized Data')\n",
    "plt.axhline(y=0,color='blue')\n",
    "plt.xlabel('actual')\n",
    "plt.ylabel('residuals')\n",
    "plt.show()"
   ]
  },
  {
   "cell_type": "code",
   "execution_count": 30,
   "metadata": {},
   "outputs": [],
   "source": [
    "X = df2.drop(['deseasonalized_sales','sales'],axis=1)\n",
    "Y = df2['deseasonalized_sales']"
   ]
  },
  {
   "cell_type": "code",
   "execution_count": 31,
   "metadata": {},
   "outputs": [
    {
     "data": {
      "text/html": [
       "<div>\n",
       "<style scoped>\n",
       "    .dataframe tbody tr th:only-of-type {\n",
       "        vertical-align: middle;\n",
       "    }\n",
       "\n",
       "    .dataframe tbody tr th {\n",
       "        vertical-align: top;\n",
       "    }\n",
       "\n",
       "    .dataframe thead th {\n",
       "        text-align: right;\n",
       "    }\n",
       "</style>\n",
       "<table border=\"1\" class=\"dataframe\">\n",
       "  <thead>\n",
       "    <tr style=\"text-align: right;\">\n",
       "      <th></th>\n",
       "      <th>year</th>\n",
       "      <th>month</th>\n",
       "    </tr>\n",
       "    <tr>\n",
       "      <th>date</th>\n",
       "      <th></th>\n",
       "      <th></th>\n",
       "    </tr>\n",
       "  </thead>\n",
       "  <tbody>\n",
       "    <tr>\n",
       "      <th>1960-01-01</th>\n",
       "      <td>1960</td>\n",
       "      <td>1</td>\n",
       "    </tr>\n",
       "    <tr>\n",
       "      <th>1960-02-01</th>\n",
       "      <td>1960</td>\n",
       "      <td>2</td>\n",
       "    </tr>\n",
       "    <tr>\n",
       "      <th>1960-03-01</th>\n",
       "      <td>1960</td>\n",
       "      <td>3</td>\n",
       "    </tr>\n",
       "    <tr>\n",
       "      <th>1960-04-01</th>\n",
       "      <td>1960</td>\n",
       "      <td>4</td>\n",
       "    </tr>\n",
       "    <tr>\n",
       "      <th>1960-05-01</th>\n",
       "      <td>1960</td>\n",
       "      <td>5</td>\n",
       "    </tr>\n",
       "    <tr>\n",
       "      <th>...</th>\n",
       "      <td>...</td>\n",
       "      <td>...</td>\n",
       "    </tr>\n",
       "    <tr>\n",
       "      <th>1968-08-01</th>\n",
       "      <td>1968</td>\n",
       "      <td>8</td>\n",
       "    </tr>\n",
       "    <tr>\n",
       "      <th>1968-09-01</th>\n",
       "      <td>1968</td>\n",
       "      <td>9</td>\n",
       "    </tr>\n",
       "    <tr>\n",
       "      <th>1968-10-01</th>\n",
       "      <td>1968</td>\n",
       "      <td>10</td>\n",
       "    </tr>\n",
       "    <tr>\n",
       "      <th>1968-11-01</th>\n",
       "      <td>1968</td>\n",
       "      <td>11</td>\n",
       "    </tr>\n",
       "    <tr>\n",
       "      <th>1968-12-01</th>\n",
       "      <td>1968</td>\n",
       "      <td>12</td>\n",
       "    </tr>\n",
       "  </tbody>\n",
       "</table>\n",
       "<p>108 rows × 2 columns</p>\n",
       "</div>"
      ],
      "text/plain": [
       "            year  month\n",
       "date                   \n",
       "1960-01-01  1960      1\n",
       "1960-02-01  1960      2\n",
       "1960-03-01  1960      3\n",
       "1960-04-01  1960      4\n",
       "1960-05-01  1960      5\n",
       "...          ...    ...\n",
       "1968-08-01  1968      8\n",
       "1968-09-01  1968      9\n",
       "1968-10-01  1968     10\n",
       "1968-11-01  1968     11\n",
       "1968-12-01  1968     12\n",
       "\n",
       "[108 rows x 2 columns]"
      ]
     },
     "execution_count": 31,
     "metadata": {},
     "output_type": "execute_result"
    }
   ],
   "source": [
    "X"
   ]
  },
  {
   "cell_type": "code",
   "execution_count": 114,
   "metadata": {},
   "outputs": [],
   "source": [
    "from sklearn.model_selection import train_test_split\n",
    "X_train, X_test, y_train, y_test = train_test_split(X, Y, test_size=0.3, random_state=42)"
   ]
  },
  {
   "cell_type": "code",
   "execution_count": 115,
   "metadata": {},
   "outputs": [
    {
     "name": "stdout",
     "output_type": "stream",
     "text": [
      "5577.20270527663\n",
      "[ -2.81994149 -10.56280074]\n"
     ]
    }
   ],
   "source": [
    "\n",
    "## Modeling\n",
    "from sklearn.linear_model import LinearRegression\n",
    "model = LinearRegression()\n",
    "model.fit(X_train,y_train)\n",
    "#### Intercept and Beta coefficient\n",
    "print(model.intercept_)\n",
    "print(model.coef_)\n"
   ]
  },
  {
   "cell_type": "code",
   "execution_count": 116,
   "metadata": {},
   "outputs": [],
   "source": [
    "## Predictions\n",
    "y_test_pred = model.predict(X_test)\n",
    "y_train_pred = model.predict(X_train)\n"
   ]
  },
  {
   "cell_type": "code",
   "execution_count": 117,
   "metadata": {},
   "outputs": [
    {
     "name": "stdout",
     "output_type": "stream",
     "text": [
      "MAE:  50.591756794977115\n",
      "MSE:  4758.864579786147\n",
      "RSME:  7.112788257425994\n",
      "R_score:  -2.531850404225922\n",
      "model score:  0.09645807531370676\n"
     ]
    }
   ],
   "source": [
    "## Evaluation\n",
    "from sklearn.metrics import mean_absolute_error\n",
    "from sklearn.metrics import mean_squared_error\n",
    "from sklearn.metrics import r2_score\n",
    "print(\"MAE: \",mean_absolute_error(test_pred,y_test))\n",
    "print(\"MSE: \",mean_squared_error(test_pred,y_test))\n",
    "print(\"RSME: \",np.sqrt(mean_absolute_error(test_pred,y_test)))\n",
    "print(\"R_score: \",r2_score(test_pred,y_test))\n",
    "print(\"model score: \",model.score(X_test,y_test))"
   ]
  },
  {
   "attachments": {},
   "cell_type": "markdown",
   "metadata": {},
   "source": [
    "### Reseasoning the data"
   ]
  },
  {
   "cell_type": "code",
   "execution_count": 118,
   "metadata": {},
   "outputs": [
    {
     "data": {
      "text/plain": [
       "date\n",
       "1960-01-01   -61.150504\n",
       "1960-02-01   -45.664785\n",
       "1960-03-01   -56.944551\n",
       "1960-04-01    -8.336500\n",
       "1960-05-01   -11.156442\n",
       "                ...    \n",
       "1968-08-01     5.046242\n",
       "1968-09-01   -53.407645\n",
       "1968-10-01   -22.436208\n",
       "1968-11-01   -32.999008\n",
       "1968-12-01   -55.510621\n",
       "Name: predictions, Length: 108, dtype: float64"
      ]
     },
     "execution_count": 118,
     "metadata": {},
     "output_type": "execute_result"
    }
   ],
   "source": [
    "predictions = np.concatenate((y_train_pred,y_test_pred))\n",
    "df2['predictions'] = predictions\n",
    "df2['predictions']"
   ]
  },
  {
   "cell_type": "code",
   "execution_count": 119,
   "metadata": {},
   "outputs": [],
   "source": [
    "df2['Reseasoned_data'] = df2['predictions']*seasonal_component"
   ]
  },
  {
   "cell_type": "code",
   "execution_count": 120,
   "metadata": {},
   "outputs": [
    {
     "data": {
      "text/html": [
       "<div>\n",
       "<style scoped>\n",
       "    .dataframe tbody tr th:only-of-type {\n",
       "        vertical-align: middle;\n",
       "    }\n",
       "\n",
       "    .dataframe tbody tr th {\n",
       "        vertical-align: top;\n",
       "    }\n",
       "\n",
       "    .dataframe thead th {\n",
       "        text-align: right;\n",
       "    }\n",
       "</style>\n",
       "<table border=\"1\" class=\"dataframe\">\n",
       "  <thead>\n",
       "    <tr style=\"text-align: right;\">\n",
       "      <th></th>\n",
       "      <th>sales</th>\n",
       "      <th>year</th>\n",
       "      <th>month</th>\n",
       "      <th>deseasonalized_sales</th>\n",
       "      <th>predictions</th>\n",
       "      <th>Reseasoned_data</th>\n",
       "    </tr>\n",
       "    <tr>\n",
       "      <th>date</th>\n",
       "      <th></th>\n",
       "      <th></th>\n",
       "      <th></th>\n",
       "      <th></th>\n",
       "      <th></th>\n",
       "      <th></th>\n",
       "    </tr>\n",
       "  </thead>\n",
       "  <tbody>\n",
       "    <tr>\n",
       "      <th>1960-01-01</th>\n",
       "      <td>6550</td>\n",
       "      <td>1960</td>\n",
       "      <td>1</td>\n",
       "      <td>-2.016847</td>\n",
       "      <td>-61.150504</td>\n",
       "      <td>198595.073153</td>\n",
       "    </tr>\n",
       "    <tr>\n",
       "      <th>1960-02-01</th>\n",
       "      <td>8728</td>\n",
       "      <td>1960</td>\n",
       "      <td>2</td>\n",
       "      <td>-3.078339</td>\n",
       "      <td>-45.664785</td>\n",
       "      <td>129473.144166</td>\n",
       "    </tr>\n",
       "    <tr>\n",
       "      <th>1960-03-01</th>\n",
       "      <td>12026</td>\n",
       "      <td>1960</td>\n",
       "      <td>3</td>\n",
       "      <td>4.170623</td>\n",
       "      <td>-56.944551</td>\n",
       "      <td>-164199.712804</td>\n",
       "    </tr>\n",
       "    <tr>\n",
       "      <th>1960-04-01</th>\n",
       "      <td>14395</td>\n",
       "      <td>1960</td>\n",
       "      <td>4</td>\n",
       "      <td>2.90582</td>\n",
       "      <td>-8.336500</td>\n",
       "      <td>-41297.777500</td>\n",
       "    </tr>\n",
       "    <tr>\n",
       "      <th>1960-05-01</th>\n",
       "      <td>14587</td>\n",
       "      <td>1960</td>\n",
       "      <td>5</td>\n",
       "      <td>2.198841</td>\n",
       "      <td>-11.156442</td>\n",
       "      <td>-74011.272731</td>\n",
       "    </tr>\n",
       "    <tr>\n",
       "      <th>...</th>\n",
       "      <td>...</td>\n",
       "      <td>...</td>\n",
       "      <td>...</td>\n",
       "      <td>...</td>\n",
       "      <td>...</td>\n",
       "      <td>...</td>\n",
       "    </tr>\n",
       "    <tr>\n",
       "      <th>1968-08-01</th>\n",
       "      <td>16722</td>\n",
       "      <td>1968</td>\n",
       "      <td>8</td>\n",
       "      <td>-5.069236</td>\n",
       "      <td>5.046242</td>\n",
       "      <td>-16646.150589</td>\n",
       "    </tr>\n",
       "    <tr>\n",
       "      <th>1968-09-01</th>\n",
       "      <td>14385</td>\n",
       "      <td>1968</td>\n",
       "      <td>9</td>\n",
       "      <td>-3.06325</td>\n",
       "      <td>-53.407645</td>\n",
       "      <td>250801.928562</td>\n",
       "    </tr>\n",
       "    <tr>\n",
       "      <th>1968-10-01</th>\n",
       "      <td>21342</td>\n",
       "      <td>1968</td>\n",
       "      <td>10</td>\n",
       "      <td>-34.72783</td>\n",
       "      <td>-22.436208</td>\n",
       "      <td>13788.179223</td>\n",
       "    </tr>\n",
       "    <tr>\n",
       "      <th>1968-11-01</th>\n",
       "      <td>17180</td>\n",
       "      <td>1968</td>\n",
       "      <td>11</td>\n",
       "      <td>-323.779734</td>\n",
       "      <td>-32.999008</td>\n",
       "      <td>1750.952595</td>\n",
       "    </tr>\n",
       "    <tr>\n",
       "      <th>1968-12-01</th>\n",
       "      <td>14577</td>\n",
       "      <td>1968</td>\n",
       "      <td>12</td>\n",
       "      <td>-6.014226</td>\n",
       "      <td>-55.510621</td>\n",
       "      <td>134544.060294</td>\n",
       "    </tr>\n",
       "  </tbody>\n",
       "</table>\n",
       "<p>108 rows × 6 columns</p>\n",
       "</div>"
      ],
      "text/plain": [
       "            sales  year  month deseasonalized_sales  predictions  \\\n",
       "date                                                               \n",
       "1960-01-01   6550  1960      1            -2.016847   -61.150504   \n",
       "1960-02-01   8728  1960      2            -3.078339   -45.664785   \n",
       "1960-03-01  12026  1960      3             4.170623   -56.944551   \n",
       "1960-04-01  14395  1960      4              2.90582    -8.336500   \n",
       "1960-05-01  14587  1960      5             2.198841   -11.156442   \n",
       "...           ...   ...    ...                  ...          ...   \n",
       "1968-08-01  16722  1968      8            -5.069236     5.046242   \n",
       "1968-09-01  14385  1968      9             -3.06325   -53.407645   \n",
       "1968-10-01  21342  1968     10            -34.72783   -22.436208   \n",
       "1968-11-01  17180  1968     11          -323.779734   -32.999008   \n",
       "1968-12-01  14577  1968     12            -6.014226   -55.510621   \n",
       "\n",
       "            Reseasoned_data  \n",
       "date                         \n",
       "1960-01-01    198595.073153  \n",
       "1960-02-01    129473.144166  \n",
       "1960-03-01   -164199.712804  \n",
       "1960-04-01    -41297.777500  \n",
       "1960-05-01    -74011.272731  \n",
       "...                     ...  \n",
       "1968-08-01    -16646.150589  \n",
       "1968-09-01    250801.928562  \n",
       "1968-10-01     13788.179223  \n",
       "1968-11-01      1750.952595  \n",
       "1968-12-01    134544.060294  \n",
       "\n",
       "[108 rows x 6 columns]"
      ]
     },
     "execution_count": 120,
     "metadata": {},
     "output_type": "execute_result"
    }
   ],
   "source": [
    "df2"
   ]
  },
  {
   "cell_type": "code",
   "execution_count": 130,
   "metadata": {},
   "outputs": [
    {
     "data": {
      "image/png": "[encoded data removed]",
      "text/plain": [
       "<Figure size 640x480 with 1 Axes>"
      ]
     },
     "metadata": {},
     "output_type": "display_data"
    }
   ],
   "source": [
    "plt.plot(df['month'], df['sales'], 'o', markersize=5, label='Original Data')\n",
    "plt.xlabel('month')\n",
    "plt.ylabel('original sales')\n",
    "plt.show()"
   ]
  },
  {
   "cell_type": "code",
   "execution_count": 131,
   "metadata": {},
   "outputs": [
    {
     "data": {
      "image/png": "[encoded data removed]",
      "text/plain": [
       "<Figure size 640x480 with 1 Axes>"
      ]
     },
     "metadata": {},
     "output_type": "display_data"
    }
   ],
   "source": [
    "plt.plot(df2['month'], df2['Reseasoned_data'], 'o', markersize=5, label='Original Data')\n",
    "plt.xlabel('month')\n",
    "plt.ylabel('predicted sales')\n",
    "plt.show()"
   ]
  },
  {
   "attachments": {},
   "cell_type": "markdown",
   "metadata": {},
   "source": [
    "## Evaluations"
   ]
  },
  {
   "attachments": {},
   "cell_type": "markdown",
   "metadata": {},
   "source": [
    "### Linearity"
   ]
  },
  {
   "cell_type": "code",
   "execution_count": 125,
   "metadata": {},
   "outputs": [
    {
     "data": {
      "text/plain": [
       "date\n",
       "1966-06-01     35.507875\n",
       "1960-11-01   -110.403495\n",
       "1960-05-01      4.895458\n",
       "1966-12-01     87.482646\n",
       "1965-03-01      2.603266\n",
       "1965-08-01     44.008145\n",
       "1962-07-01     17.818542\n",
       "1963-10-01     41.300212\n",
       "1967-12-01     90.718059\n",
       "1960-12-01     73.147419\n",
       "1966-10-01     46.175301\n",
       "1966-08-01     46.723197\n",
       "1960-01-01    -41.571432\n",
       "1966-09-01      59.01376\n",
       "1961-07-01      15.95747\n",
       "1965-10-01      41.73629\n",
       "1964-09-01     53.929457\n",
       "1966-05-01     22.733112\n",
       "1968-11-01    -235.14678\n",
       "1963-07-01     20.518624\n",
       "1961-01-01    -38.963029\n",
       "1963-01-01     -34.43934\n",
       "1965-05-01     20.344889\n",
       "1962-03-01     -7.517733\n",
       "1961-11-01   -171.566801\n",
       "1962-08-01     37.297483\n",
       "1963-12-01     79.885946\n",
       "1968-05-01     29.190306\n",
       "1961-04-01      -2.26376\n",
       "1963-09-01     51.712157\n",
       "1967-05-01     26.066172\n",
       "1967-06-01     38.910877\n",
       "1960-10-01      39.97894\n",
       "Name: deseasonalized_sales, dtype: object"
      ]
     },
     "execution_count": 125,
     "metadata": {},
     "output_type": "execute_result"
    }
   ],
   "source": [
    "res = y_test - y_test_pred\n",
    "res"
   ]
  },
  {
   "cell_type": "code",
   "execution_count": 126,
   "metadata": {},
   "outputs": [
    {
     "data": {
      "image/png": "[encoded data removed]",
      "text/plain": [
       "<Figure size 640x480 with 1 Axes>"
      ]
     },
     "metadata": {},
     "output_type": "display_data"
    }
   ],
   "source": [
    "plt.scatter(y_test,y_test_pred)\n",
    "plt.xlabel('actual')\n",
    "plt.ylabel('predicted')\n",
    "plt.show()\n"
   ]
  },
  {
   "attachments": {},
   "cell_type": "markdown",
   "metadata": {},
   "source": [
    "## Normality of error\n"
   ]
  },
  {
   "cell_type": "code",
   "execution_count": 127,
   "metadata": {},
   "outputs": [
    {
     "data": {
      "text/plain": [
       "<function matplotlib.pyplot.show(close=None, block=None)>"
      ]
     },
     "execution_count": 127,
     "metadata": {},
     "output_type": "execute_result"
    },
    {
     "data": {
      "image/png": "[encoded data removed]",
      "text/plain": [
       "<Figure size 500x500 with 1 Axes>"
      ]
     },
     "metadata": {},
     "output_type": "display_data"
    }
   ],
   "source": [
    "sns.displot(res,kde=True)\n",
    "plt.show\n"
   ]
  },
  {
   "attachments": {},
   "cell_type": "markdown",
   "metadata": {},
   "source": [
    "## Equality of varience"
   ]
  },
  {
   "cell_type": "code",
   "execution_count": 128,
   "metadata": {},
   "outputs": [
    {
     "data": {
      "image/png": "[encoded data removed]",
      "text/plain": [
       "<Figure size 640x480 with 1 Axes>"
      ]
     },
     "metadata": {},
     "output_type": "display_data"
    }
   ],
   "source": [
    "plt.scatter(test_pred,res,c='r')\n",
    "plt.axhline(y=0,color='blue')\n",
    "plt.xlabel('actual')\n",
    "plt.ylabel('residuals')\n",
    "plt.show()"
   ]
  },
  {
   "attachments": {},
   "cell_type": "markdown",
   "metadata": {},
   "source": [
    "## Inference\n",
    "##### Linearity, equality of varience assumptions are not being satisfied and also after reseasoning the forecasted values are very high than the original data. The graph trend for the forecasted data is also in reverse order.\n",
    "\n"
   ]
  }
 ],
 "metadata": {
  "kernelspec": {
   "display_name": "base",
   "language": "python",
   "name": "python3"
  },
  "language_info": {
   "codemirror_mode": {
    "name": "ipython",
    "version": 3
   },
   "file_extension": ".py",
   "mimetype": "text/x-python",
   "name": "python",
   "nbconvert_exporter": "python",
   "pygments_lexer": "ipython3",
   "version": "3.9.13"
  },
  "orig_nbformat": 4
 },
 "nbformat": 4,
 "nbformat_minor": 2
}
